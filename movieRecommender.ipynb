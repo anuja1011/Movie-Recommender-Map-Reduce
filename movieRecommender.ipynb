{
 "cells": [
  {
   "cell_type": "markdown",
   "metadata": {},
   "source": [
    "# Movie Recommender\n",
    "*(Using PySpark) *\n"
   ]
  },
  {
   "cell_type": "markdown",
   "metadata": {},
   "source": [
    "**Summary:** \n",
    "\n",
    "UserId and the MovieID which the user has liked is given, Based on this information we have to design a system which recommends top 5 movies to the user.\n",
    "\n",
    "To solve the problem we are given various data like:\n",
    "\n",
    "1. *ratings.csv:* - UserID,MovieID,Rating(out of 5.0),timestamp\n",
    "2. *movies.csv:*  - MovieID,title,genre\n",
    "3. *tags.csv:*    - UserID,MovieID,tags,timestamp\n",
    "4. *links.csv:*   - MovieID,ImdbId,tmbdId\n",
    "\n",
    "**===============================================================================**\n",
    "\n",
    "*Note:*\n",
    "1. User is considered to like a movie if the rating is above 3.0\n",
    "2. All the IDs are consistent throughout the data\n",
    "\n",
    "**===============================================================================**"
   ]
  },
  {
   "cell_type": "markdown",
   "metadata": {},
   "source": [
    "**Importing all the required libraries:**\n"
   ]
  },
  {
   "cell_type": "code",
   "execution_count": 1,
   "metadata": {},
   "outputs": [],
   "source": [
    "from functools import reduce\n",
    "#from pyspark import SparkContext \n",
    "#from pyspark.sql import SQLContext \n",
    "#import pandas as pd \n",
    "#from pyspark.sql.types import StringType\n",
    "#sqlContext = SQLContext(sc)"
   ]
  },
  {
   "cell_type": "markdown",
   "metadata": {},
   "source": [
    "**Getting Input from the user and declaring Global variables**"
   ]
  },
  {
   "cell_type": "code",
   "execution_count": 2,
   "metadata": {},
   "outputs": [
    {
     "name": "stdout",
     "output_type": "stream",
     "text": [
      "Enter the movieID between 1 and 163949: 1\n",
      "Enter the userID between 1 and 671: 1\n"
     ]
    }
   ],
   "source": [
    "#Taking userID and movieID from user\n",
    "\n",
    "givenMovieId = input(\"Enter the movieID between 1 and 163949: \")\n",
    "givenUserId = input(\"Enter the userID between 1 and 671: \")\n",
    "avgRating = 3.0\n",
    "\n",
    "#It is assumed that the input data is correct & the givenMovieID is the movieID for which user needs recommendation"
   ]
  },
  {
   "cell_type": "markdown",
   "metadata": {},
   "source": [
    "**Reading all the given .csv files**\n",
    "\n",
    "* Reading the files as dataframes\n",
    "* finding the list of all movies that user likes sorted by rating\n",
    "* finding the genre of movies liked by the givenUserId\n",
    "* Perfoming join to get a consolidated table with following columns\n",
    "    * UserId | MovieId | Rating | timestamp | genre \n",
    "      \n"
   ]
  },
  {
   "cell_type": "code",
   "execution_count": 40,
   "metadata": {},
   "outputs": [
    {
     "name": "stdout",
     "output_type": "stream",
     "text": [
      "--------------------------------\n",
      "Finding the genre of high rated user movies and print it as a consolidated table\n",
      "+-------+------+------+----------+--------------------+--------------------+\n",
      "|movieId|userId|rating| timestamp|               title|              genres|\n",
      "+-------+------+------+----------+--------------------+--------------------+\n",
      "|   1172|     1|   4.0|1260759205|Cinema Paradiso (...|               Drama|\n",
      "|   1953|     1|   4.0|1260759191|French Connection...|Action|Crime|Thri...|\n",
      "|   2105|     1|   4.0|1260759139|         Tron (1982)|Action|Adventure|...|\n",
      "|   1339|     1|   3.5|1260759125|Dracula (Bram Sto...|Fantasy|Horror|Ro...|\n",
      "|   1029|     1|   3.0|1260759179|        Dumbo (1941)|Animation|Childre...|\n",
      "|   1061|     1|   3.0|1260759182|     Sleepers (1996)|            Thriller|\n",
      "|   2150|     1|   3.0|1260759194|Gods Must Be Craz...|    Adventure|Comedy|\n",
      "|   3671|     1|   3.0|1260759117|Blazing Saddles (...|      Comedy|Western|\n",
      "+-------+------+------+----------+--------------------+--------------------+\n",
      "\n"
     ]
    }
   ],
   "source": [
    "ratingsDF = spark.read.csv(\"ratings.csv\", header =True, inferSchema =True)\n",
    "moviesDF = spark.read.csv(\"movies.csv\", header =True, inferSchema =True)\n",
    "tagsDF = spark.read.csv(\"tags.csv\", header =True, inferSchema =True)\n",
    "linksDF = spark.read.csv(\"links.csv\", header =True, inferSchema =True)\n",
    "\n",
    "#Converting All the DataFrames to RDDs\n",
    "\n",
    "ratingsRDD = ratingsDF.rdd\n",
    "moviesRDD = moviesDF.rdd\n",
    "tagRDD = tagsDF.rdd\n",
    "linksRDD = linksDF.rdd\n",
    "\n",
    "#reducedRDD = ratingsDF.rdd.map(lambda x: (x[0],x[1],x[2]))\n",
    "\n",
    "#Getting the list of all movies that user has liked\n",
    "#(avgRating greater than 3.0) from ratings.csv => userId,movieId,rating,time\n",
    "highRatedUserMoviesRDD = ratingsRDD.filter(lambda x: x[0] == int(givenUserId) and x[2] >= avgRating).sortBy(lambda x: x[2],ascending=False)\n",
    "\n",
    "#filters the RDD to give the data for only input userID\n",
    "tempData = ratingsRDD.filter(lambda x: x[0] == int(givenUserId)) #[userID|movieID|rating|time]\n",
    "moviesWatchedByUser = spark.createDataFrame(tempData)\n",
    "\n",
    "allMoviesDF = spark.createDataFrame(moviesRDD)\n",
    "print(\"--------------------------------\")\n",
    "\n",
    "#creating join for the movies watched by the user\n",
    "joinedDF = allMoviesDF.join(moviesWatchedByUser,[\"movieId\"])\n",
    "\n",
    "#creating a complete join == for all userIDs and all movies\n",
    "joinedCompleteDF = moviesDF.join(ratingsDF,[\"movieId\"])\n",
    "\n",
    "moviesNotWatchedByUser = joinedCompleteDF.subtract(joinedDF)\n",
    "\n",
    "#converting to dataframes to perfom join \n",
    "highRatedUserMoviesDF = spark.createDataFrame(highRatedUserMoviesRDD)\n",
    "#print(\"High Rated User Movies #Rating above 3.0\")\n",
    "#highRatedUserMoviesDF.show()\n",
    "\n",
    "\n",
    "#Using Join to get a consolidated table of highLiked User Movies with the genre\n",
    "combinedLikedMoviesAndGenreDF = highRatedUserMoviesDF.join(moviesDF, [\"movieId\"])\n",
    "print(\"Finding the genre of high rated user movies and print it as a consolidated table\")\n",
    "combinedLikedMoviesAndGenreDF.show()\n",
    "\n",
    "#Removing Unused Columns eg. timestamp and title\n",
    "data = combinedLikedMoviesAndGenreDF.rdd.map(lambda x: (x[0],x[1],x[2],x[5]))\n",
    "reduced_combinedLikedMoviesAndGenreDF = spark.createDataFrame(data)\n",
    "\n",
    "#reduced_combinedLikedMoviesAndGenreDF.show()\n",
    "\n"
   ]
  },
  {
   "cell_type": "markdown",
   "metadata": {},
   "source": [
    "\n",
    "**Finding the top Genre liked by the user**\n",
    "\n",
    "1. Example: 2 movieIDs liked by user are 1 and 2; \n",
    "2. there respective genre are **Adventure|Animation|Children|Comedy|Fantasy** and __Adventure|Children|Fantasy__\n",
    "3. __Aim:__ result should be [(Adventure,2),(Children,2),(Fantasy,2),(Comedy,1),(Animation,1)]\n",
    "4. So the most likely genre to be liked by user are __Adventure,Children,Fantasy__\n"
   ]
  },
  {
   "cell_type": "code",
   "execution_count": 41,
   "metadata": {},
   "outputs": [
    {
     "name": "stdout",
     "output_type": "stream",
     "text": [
      "The top 3 genre and its equivalent count aka genre most liked by the user: Genre | count\n",
      "[('Thriller', 3), ('Drama', 2), ('Action', 2)]\n"
     ]
    }
   ],
   "source": [
    "#seperating the genre of movies liked by the user from the table\n",
    "onlyGenreOfLikedMovies = reduced_combinedLikedMoviesAndGenreDF.rdd.map(lambda x: (x[3]))\n",
    "\n",
    "#splitting the genre on \"|\"\n",
    "seperateGenre = onlyGenreOfLikedMovies.map(lambda x: (x.split(\"|\")))\n",
    "allGenre = seperateGenre.flatMap((list))\n",
    "\n",
    "equalCountAllGenre= allGenre.map(lambda x: (x,1))\n",
    "    \n",
    "countGenre = equalCountAllGenre.reduceByKey(lambda x,y:x+y)\n",
    "\n",
    "sortedCountForGenre = countGenre.sortBy(lambda x: x[1],ascending=False)\n",
    "\n",
    "bestFitGenre = sortedCountForGenre.take(3)\n",
    "\n",
    "print(\"The top 3 genre and its equivalent count aka genre most liked by the user: Genre | count\")\n",
    "print(bestFitGenre)\n",
    "topThreeGenreNames=[]\n",
    "topThreeGenreNames = [bestFitGenre[0][0],bestFitGenre[1][0],bestFitGenre[2][0]]\n",
    "topThreeGenreNamesSet= set(topThreeGenreNames)\n",
    "\n",
    "#print(topThreeGenreNamesSet)\n",
    "\n",
    "#print(bestFitGenre[1][0])"
   ]
  },
  {
   "cell_type": "markdown",
   "metadata": {},
   "source": [
    "**Taking into account the genre of Input MovieID**\n",
    "\n",
    "1. Finding the Genre of Input movieID\n",
    "2. Checking if the top 3 genre includes the genre of the Input Movie"
   ]
  },
  {
   "cell_type": "code",
   "execution_count": 42,
   "metadata": {},
   "outputs": [
    {
     "name": "stdout",
     "output_type": "stream",
     "text": [
      "Input Movie Genre are as follows: \n",
      "{'Comedy', 'Adventure', 'Animation', 'Children', 'Fantasy'} \n",
      "\n",
      "Displaying common genre(If any) between the top Genres of the user and the genre of the Input Movie\n",
      "set()\n"
     ]
    }
   ],
   "source": [
    "#Getting the details of the input MovieId given by the user\n",
    "inputMovieDetailsFromMoviesCSV = moviesRDD.filter(lambda x:x[0] == int(givenMovieId)).collect()\n",
    "\n",
    "inputMovieGenreSet = set(inputMovieDetailsFromMoviesCSV[0][2].split(\"|\"))\n",
    "inputMovieGenreList =list(inputMovieGenreSet)\n",
    "print(\"Input Movie Genre are as follows: \")\n",
    "print(inputMovieGenreSet,'\\n')\n",
    "\n",
    "commonGenresSet = topThreeGenreNamesSet.intersection(inputMovieGenreSet)\n",
    "commonGenresList = list(commonGenresSet)\n",
    "print(\"Displaying common genre(If any) between the top Genres of the user and the genre of the Input Movie\")\n",
    "print(commonGenresSet)\n",
    "\n"
   ]
  },
  {
   "cell_type": "markdown",
   "metadata": {},
   "source": [
    "**Finding the relation between the User's most liked Genre and Genre of the input movie**\n",
    "\n",
    "1. Checking the relation between input Genre and top 3 genre\n",
    "2. Creating the modified Genre"
   ]
  },
  {
   "cell_type": "code",
   "execution_count": 52,
   "metadata": {},
   "outputs": [
    {
     "name": "stdout",
     "output_type": "stream",
     "text": [
      "top movies recommended are:\n"
     ]
    },
    {
     "data": {
      "text/plain": [
       "[[47384,\n",
       "  'Adventure|Comedy|Drama|Fantasy',\n",
       "  'Zoom (2006)',\n",
       "  213,\n",
       "  2.5,\n",
       "  1462644086,\n",
       "  213,\n",
       "  2.5,\n",
       "  1462644086],\n",
       " [109187,\n",
       "  'Drama|Fantasy|Sci-Fi',\n",
       "  'Zero Theorem, The (2013)',\n",
       "  615,\n",
       "  0.5,\n",
       "  1454913681,\n",
       "  624,\n",
       "  2.0,\n",
       "  1431182418],\n",
       " [109187,\n",
       "  'Drama|Fantasy|Sci-Fi',\n",
       "  'Zero Theorem, The (2013)',\n",
       "  615,\n",
       "  0.5,\n",
       "  1454913681,\n",
       "  615,\n",
       "  0.5,\n",
       "  1454913681],\n",
       " [109187,\n",
       "  'Drama|Fantasy|Sci-Fi',\n",
       "  'Zero Theorem, The (2013)',\n",
       "  615,\n",
       "  0.5,\n",
       "  1454913681,\n",
       "  270,\n",
       "  4.0,\n",
       "  1469278482],\n",
       " [109187,\n",
       "  'Drama|Fantasy|Sci-Fi',\n",
       "  'Zero Theorem, The (2013)',\n",
       "  615,\n",
       "  0.5,\n",
       "  1454913681,\n",
       "  15,\n",
       "  0.5,\n",
       "  1465794437]]"
      ]
     },
     "execution_count": 52,
     "metadata": {},
     "output_type": "execute_result"
    }
   ],
   "source": [
    "if(len(commonGenresList) != 0):\n",
    "    print(\"There are common genre between users top genre and genre of the input movie\")\n",
    "#    #It means that the movie which the user has given as input has some common Genre with the Users Top3 Genre\n",
    "    mostLikelyGenre = sortedCountForGenre.filter(lambda x: x[0] in commonGenresList).take(3)\n",
    "    inputMovieGenreList = mostLikelyGenre\n",
    "    \n",
    "    #Here it is important to note the following scenarios:\n",
    "        #If the no. of common Genre is 1 => that means that:\n",
    "        #the user has previously liked these genres and also the current movie is of having this genre : \n",
    "        #So the user is likely to like any high rated movie of this genre\n",
    "        \n",
    "        #If the no. of common Genre is 2 or 3 (G1,G2 and G3) the user is likely to like any movie with Genre G1, G2, G3 \n",
    "        #or any combination of G1|G2|G3\n",
    "        \n",
    "        #All this processing is done in the below section\n",
    "        \n",
    "#else:\n",
    "    # If there are no common Genre, It means that this is a new Genre movie which the user has not liked before\n",
    "    # So we can do the following:\n",
    "    #1. Find the users who who have liked the movieID given by the user\n",
    "    #2. Find the top rated movie in the new Genre liked by these user\n",
    "    \n",
    "for genre in inputMovieGenreList:\n",
    "    data = moviesRDD.filter(lambda x: (genre in x[2].split(\"|\")))\n",
    "    \n",
    "\n",
    "detailsForInputMovieGenre = spark.createDataFrame(data)  \n",
    "\n",
    "\n",
    "#Creating the list for movies in inputGenre which the user has not watched\n",
    "\n",
    "likelyMoviesForUser = moviesNotWatchedByUser.join(detailsForInputMovieGenre,[\"movieId\",\"genres\",\"title\"])\n",
    "\n",
    "\n",
    "recommendedmoviesDF = likelyMoviesForUser.join(ratingsDF,[\"movieId\"])\n",
    "\n",
    "\n",
    "recommendedRDD = recommendedmoviesDF.rdd.map(list).sortBy(lambda x:x[2],ascending=False )\n",
    "print(\"top movies recommended are:\")\n",
    "recommendedRDD.take(5)\n"
   ]
  },
  {
   "cell_type": "markdown",
   "metadata": {},
   "source": []
  },
  {
   "cell_type": "code",
   "execution_count": null,
   "metadata": {},
   "outputs": [],
   "source": []
  },
  {
   "cell_type": "markdown",
   "metadata": {},
   "source": [
    "\n",
    "\n"
   ]
  }
 ],
 "metadata": {
  "kernelspec": {
   "display_name": "Python 3",
   "language": "python",
   "name": "python3"
  },
  "language_info": {
   "codemirror_mode": {
    "name": "ipython",
    "version": 3
   },
   "file_extension": ".py",
   "mimetype": "text/x-python",
   "name": "python",
   "nbconvert_exporter": "python",
   "pygments_lexer": "ipython3",
   "version": "3.6.5"
  }
 },
 "nbformat": 4,
 "nbformat_minor": 2
}
